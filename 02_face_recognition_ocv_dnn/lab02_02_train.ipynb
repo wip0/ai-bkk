{
 "nbformat": 4,
 "nbformat_minor": 2,
 "metadata": {
  "language_info": {
   "name": "python",
   "codemirror_mode": {
    "name": "ipython",
    "version": 3
   },
   "version": "3.7.3-final"
  },
  "orig_nbformat": 2,
  "file_extension": ".py",
  "mimetype": "text/x-python",
  "name": "python",
  "npconvert_exporter": "python",
  "pygments_lexer": "ipython3",
  "version": 3,
  "kernelspec": {
   "name": "python3",
   "display_name": "Python 3"
  }
 },
 "cells": [
  {
   "cell_type": "code",
   "execution_count": 1,
   "metadata": {},
   "outputs": [],
   "source": [
    "from sklearn.preprocessing import LabelEncoder\n",
    "from sklearn.svm import SVC\n",
    "import pickle"
   ]
  },
  {
   "cell_type": "code",
   "execution_count": 2,
   "metadata": {},
   "outputs": [
    {
     "output_type": "stream",
     "name": "stdout",
     "text": "[INFO] loading face embeddings...\n"
    }
   ],
   "source": [
    "# Load embbedding\n",
    "print(\"[INFO] loading face embeddings...\")\n",
    "embeddingFile = \"output/embeddings.pickle\"\n",
    "data = pickle.loads(open(embeddingFile, \"rb\").read())"
   ]
  },
  {
   "cell_type": "code",
   "execution_count": 3,
   "metadata": {},
   "outputs": [
    {
     "output_type": "stream",
     "name": "stdout",
     "text": "[INFO] encoding labels...\n[INFO] training model...\n"
    },
    {
     "output_type": "execute_result",
     "data": {
      "text/plain": "SVC(C=1.0, break_ties=False, cache_size=200, class_weight=None, coef0=0.0,\n    decision_function_shape='ovr', degree=3, gamma='scale', kernel='linear',\n    max_iter=-1, probability=True, random_state=None, shrinking=True, tol=0.001,\n    verbose=False)"
     },
     "metadata": {},
     "execution_count": 3
    }
   ],
   "source": [
    "# Create Encoder\n",
    "print(\"[INFO] encoding labels...\")\n",
    "labelEncoder = LabelEncoder()\n",
    "labels = labelEncoder.fit_transform(data[\"labels\"])\n",
    "\n",
    "# Training model\n",
    "print(\"[INFO] training model...\")\n",
    "recognizer = SVC(C=1.0, kernel=\"linear\", probability=True)\n",
    "recognizer.fit(data[\"embeddings\"], labels)\n",
    ""
   ]
  },
  {
   "cell_type": "code",
   "execution_count": 4,
   "metadata": {},
   "outputs": [
    {
     "output_type": "stream",
     "name": "stdout",
     "text": "Writing files...\n"
    }
   ],
   "source": [
    "# Dump output\n",
    "outputRecognizerFile = \"output/recognizer.pickle\"\n",
    "outputLabelEncoderFile = \"output/label_encoder.pickle\"\n",
    "print(\"Writing files...\")\n",
    "\n",
    "fp = open(outputRecognizerFile, \"wb\")\n",
    "fp.write(pickle.dumps(recognizer))\n",
    "fp.close()\n",
    "\n",
    "fp = open(outputLabelEncoderFile, \"wb\")\n",
    "fp.write(pickle.dumps(labelEncoder))\n",
    "fp.close()"
   ]
  },
  {
   "cell_type": "code",
   "execution_count": null,
   "metadata": {},
   "outputs": [],
   "source": []
  }
 ]
}