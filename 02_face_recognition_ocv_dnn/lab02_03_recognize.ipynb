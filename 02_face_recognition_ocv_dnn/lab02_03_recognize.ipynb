{
 "nbformat": 4,
 "nbformat_minor": 2,
 "metadata": {
  "language_info": {
   "name": "python",
   "codemirror_mode": {
    "name": "ipython",
    "version": 3
   },
   "version": "3.7.3-final"
  },
  "orig_nbformat": 2,
  "file_extension": ".py",
  "mimetype": "text/x-python",
  "name": "python",
  "npconvert_exporter": "python",
  "pygments_lexer": "ipython3",
  "version": 3,
  "kernelspec": {
   "name": "python3",
   "display_name": "Python 3"
  }
 },
 "cells": [
  {
   "cell_type": "code",
   "execution_count": 1,
   "metadata": {},
   "outputs": [],
   "source": [
    "import numpy as np\n",
    "import imutils\n",
    "import pickle\n",
    "import cv2\n",
    "import os"
   ]
  },
  {
   "cell_type": "code",
   "execution_count": 2,
   "metadata": {},
   "outputs": [],
   "source": [
    "# Prepare model\n",
    "modelFolder = \"./face_detection_model\"\n",
    "protoFile = os.path.sep.join([modelFolder, \"deploy.prototxt\"])\n",
    "modelFile = os.path.sep.join([modelFolder, \"res10_300x300_ssd_iter_140000.caffemodel\"])\n",
    "detector = cv2.dnn.readNetFromCaffe(protoFile, modelFile)\n",
    "\n",
    "# Prepare embedded\n",
    "embeddedFile = \"./openface_nn4.small2.v1.t7\"\n",
    "embedder = cv2.dnn.readNetFromTorch(embeddedFile)"
   ]
  },
  {
   "cell_type": "code",
   "execution_count": 3,
   "metadata": {},
   "outputs": [],
   "source": [
    "# Prepare recognizer\n",
    "recognizerFile = \"output/recognizer.pickle\"\n",
    "labelEncoderFile = \"output/label_encoder.pickle\"\n",
    "recognizer = pickle.loads(open(recognizerFile, \"rb\").read())\n",
    "labelEncoder = pickle.loads(open(labelEncoderFile, \"rb\").read())"
   ]
  },
  {
   "cell_type": "code",
   "execution_count": 4,
   "metadata": {},
   "outputs": [
    {
     "output_type": "stream",
     "name": "stdout",
     "text": "[original] width=3456 height=4608\n"
    }
   ],
   "source": [
    "# Prepare input image\n",
    "inputImageFile = \"images/000.jpg\"\n",
    "orgImage = cv2.imread(inputImageFile)\n",
    "(orgHeight, orgWidth) = orgImage.shape[:2]\n",
    "print(\"[original] width={0} height={1}\".format(orgWidth, orgHeight))\n",
    "\n",
    "# Show original\n",
    "# cv2.imshow(\"Original\", orgImage)\n",
    "# cv2.waitKey(0)\n",
    "# cv2.destroyAllWindows()"
   ]
  },
  {
   "cell_type": "code",
   "execution_count": 5,
   "metadata": {},
   "outputs": [],
   "source": [
    "# Resize input image (maintain the aspect ratio)\n",
    "image = imutils.resize(orgImage, width=600)\n",
    "(height, width) = image.shape[:2]\n",
    "\n",
    "# Resize image to 300x300 pixels to blob object and normalizing\n",
    "outWidth, outHeight = 300, 300\n",
    "resizedImage = cv2.resize(image, (outWidth, outHeight))\n",
    "scale = 1.0\n",
    "mean = (104.0, 177.0, 123.0)\n",
    "\n",
    "# Create an image blob\n",
    "imageBlob = cv2.dnn.blobFromImage(resizedImage, scale, (outWidth, outHeight), mean)"
   ]
  },
  {
   "cell_type": "code",
   "execution_count": 6,
   "metadata": {},
   "outputs": [],
   "source": [
    "# Set minimum confidence\n",
    "minimumConfidence = 0.5\n",
    "\n",
    "# Prepare for drawing\n",
    "borderColor = (255, 0, 255)\n",
    "textColor = (0, 0, 255)\n",
    "font = cv2.FONT_HERSHEY_SIMPLEX\n",
    "fontScale = 0.45\n",
    "thickness = 2\n",
    "# Prepare face parameters\n",
    "faceMinWidth, faceMinHeight = 20, 20\n",
    "faceOutputWidth, faceOutputHeight = 96, 96\n",
    "faceScale = 1.0 / 255\n",
    "faceMean = (0, 0, 0)"
   ]
  },
  {
   "cell_type": "code",
   "execution_count": 7,
   "metadata": {},
   "outputs": [
    {
     "output_type": "stream",
     "name": "stdout",
     "text": "numDetections=200\n"
    }
   ],
   "source": [
    "# copy image\n",
    "output = image.copy()\n",
    "# Pass the blob through network\n",
    "detector.setInput(imageBlob)\n",
    "detections = detector.forward()\n",
    "# loop over the detections\n",
    "numDetections = detections.shape[2]\n",
    "print(\"numDetections={0}\".format(numDetections))\n",
    "\n",
    "# Face detection\n",
    "for i in range(0, numDetections):\n",
    "    # extract the confidence associated with the prediction\n",
    "    confidence = detections[0, 0, i, 2]\n",
    "    if confidence > minimumConfidence:\n",
    "        # compute the (x, y)-coordinates of the bounding box for the object\n",
    "        box = detections[0, 0, i, 3:7] * np.array([width, height, width, height])\n",
    "        (startX, startY, endX, endY) = box.astype(\"int\")\n",
    "        # draw rectangle with the associated propbability\n",
    "        cv2.rectangle(output, (startX, startY), (endX, endY), borderColor, thickness)\n",
    "\n",
    "        text = \"{:.2f}%\".format(confidence * 100)\n",
    "        textY = startY - 10 if startY - 10 > 10 else startY + 10\n",
    "        cv2.putText(output, text, (startX, textY), font, fontScale, textColor, thickness)\n",
    "\n",
    "# show the output image\n",
    "cv2.imshow(\"Output\", output)\n",
    "cv2.waitKey(0)\n",
    "cv2.destroyAllWindows()"
   ]
  },
  {
   "cell_type": "code",
   "execution_count": 8,
   "metadata": {},
   "outputs": [
    {
     "output_type": "stream",
     "name": "stdout",
     "text": "numDetections=200\n"
    }
   ],
   "source": [
    "# copy image\n",
    "output = image.copy()\n",
    "# Pass the blob through network\n",
    "detector.setInput(imageBlob)\n",
    "detections = detector.forward()\n",
    "# loop over the detections\n",
    "numDetections = detections.shape[2]\n",
    "print(\"numDetections={0}\".format(numDetections))\n",
    "\n",
    "# Face detection\n",
    "for i in range(0, numDetections):\n",
    "    # extract the confidence associated with the prediction\n",
    "    confidence = detections[0, 0, i, 2]\n",
    "    if confidence > minimumConfidence:\n",
    "        # compute the (x, y)-coordinates of the bounding box for the object\n",
    "        box = detections[0, 0, i, 3:7] * np.array([width, height, width, height])\n",
    "        (startX, startY, endX, endY) = box.astype(\"int\")\n",
    "\n",
    "        # extract the face ROI\n",
    "        face = image[startY:endY, startX:endX]\n",
    "        (faceHeight, faceWidth) = face.shape[:2]\n",
    "        # ensure the face width and height are sufficiently large\n",
    "        if faceWidth < faceMinWidth or faceHeight < faceMinHeight:\n",
    "            continue\n",
    "        \n",
    "        # Create a blob from the face ROI\n",
    "        faceBlob = cv2.dnn.blobFromImage(face, faceScale, (faceOutputWidth, faceOutputHeight), faceMean, swapRB=True, crop=False)\n",
    "\n",
    "        # Who is this?\n",
    "        embedder.setInput(faceBlob)\n",
    "        vector = embedder.forward()\n",
    "\n",
    "        # Face classification\n",
    "        preds = recognizer.predict_proba(vector)[0]\n",
    "        k = np.argmax(preds)\n",
    "        probability = preds[k]\n",
    "        label = labelEncoder.classes_[k]\n",
    "\n",
    "        # draw rectangle with the associated propbability\n",
    "        cv2.rectangle(output, (startX, startY), (endX, endY), borderColor, thickness)\n",
    "\n",
    "        text = \"{0} - {1:.2f}%\".format(label, probability * 100)\n",
    "        textY = startY - 10 if startY - 10 > 10 else startY + 10\n",
    "        cv2.putText(output, text, (startX, textY), font, fontScale, textColor, thickness)\n",
    "\n",
    "# show the output image\n",
    "cv2.imshow(\"Output\", output)\n",
    "cv2.waitKey(0)\n",
    "cv2.destroyAllWindows()"
   ]
  },
  {
   "cell_type": "code",
   "execution_count": null,
   "metadata": {},
   "outputs": [],
   "source": []
  }
 ]
}